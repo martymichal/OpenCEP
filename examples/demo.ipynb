{
 "cells": [
  {
   "cell_type": "markdown",
   "id": "9e9617c8",
   "metadata": {},
   "source": [
    "# OpenCEP Demo\n",
    "This notebook demonstrates a simple ascending peak price pattern over Google stock updates."
   ]
  },
  {
   "cell_type": "code",
   "execution_count": 1,
   "id": "76cdd4b9",
   "metadata": {},
   "outputs": [],
   "source": [
    "from datetime import timedelta\n",
    "from CEP import CEP\n",
    "from base.Pattern import Pattern\n",
    "from base.PatternStructure import SeqOperator, PrimitiveEventStructure\n",
    "from condition.CompositeCondition import AndCondition\n",
    "from condition.BaseRelationCondition import SmallerThanCondition\n",
    "from condition.Condition import Variable, SimpleCondition\n",
    "from stream.FileStream import FileInputStream, FileOutputStream\n",
    "from plugin.stocks.Stocks import MetastockDataFormatter\n",
    "import test"
   ]
  },
  {
   "cell_type": "markdown",
   "id": "a4abe171",
   "metadata": {},
   "source": [
    "This pattern is looking for a short ascend in the Google peak prices:\n",
    "```\n",
    "PATTERN SEQ(GoogleStockPriceUpdate a, GoogleStockPriceUpdate b, GoogleStockPriceUpdate c)\n",
    "WHERE a.PeakPrice < b.PeakPrice AND b.PeakPrice < c.PeakPrice\n",
    "WITHIN 3 minutes\n",
    "```"
   ]
  },
  {
   "cell_type": "code",
   "execution_count": 2,
   "id": "699e09a6",
   "metadata": {},
   "outputs": [],
   "source": [
    "googleAscendPattern = Pattern(\n",
    "        SeqOperator(PrimitiveEventStructure(\"GOOG\", \"a\"), \n",
    "                    PrimitiveEventStructure(\"GOOG\", \"b\"), \n",
    "                    PrimitiveEventStructure(\"GOOG\", \"c\")),\n",
    "        AndCondition(\n",
    "            SmallerThanCondition(Variable(\"a\", lambda x: x[\"Peak Price\"]), \n",
    "                                 Variable(\"b\", lambda x: x[\"Peak Price\"])),\n",
    "            SmallerThanCondition(Variable(\"b\", lambda x: x[\"Peak Price\"]), \n",
    "                                 Variable(\"c\", lambda x: x[\"Peak Price\"]))\n",
    "        ),\n",
    "        timedelta(minutes=3)\n",
    "    )"
   ]
  },
  {
   "cell_type": "markdown",
   "id": "745183fd",
   "metadata": {},
   "source": [
    "Another way to define the above example is to use SimpleCondition and a lambda function:"
   ]
  },
  {
   "cell_type": "code",
   "execution_count": 3,
   "id": "cda8f187",
   "metadata": {},
   "outputs": [],
   "source": [
    "googleAscendPattern = Pattern(\n",
    "        SeqOperator(PrimitiveEventStructure(\"GOOG\", \"a\"), \n",
    "                    PrimitiveEventStructure(\"GOOG\", \"b\"), \n",
    "                    PrimitiveEventStructure(\"GOOG\", \"c\")),\n",
    "        SimpleCondition(Variable(\"a\", lambda x: x[\"Peak Price\"]), \n",
    "                        Variable(\"b\", lambda x: x[\"Peak Price\"]),\n",
    "                        Variable(\"c\", lambda x: x[\"Peak Price\"]),\n",
    "                        relation_op=lambda x,y,z: x < y < z),\n",
    "        timedelta(minutes=3)\n",
    "    )"
   ]
  },
  {
   "cell_type": "markdown",
   "id": "520e73b9",
   "metadata": {},
   "source": [
    "Creating a CEP object for monitoring the first pattern from the example above:"
   ]
  },
  {
   "cell_type": "code",
   "execution_count": 4,
   "id": "4b58c8c0",
   "metadata": {},
   "outputs": [],
   "source": [
    "cep = CEP([googleAscendPattern])"
   ]
  },
  {
   "cell_type": "markdown",
   "id": "5c52a889",
   "metadata": {},
   "source": [
    "Defining a new file-based event stream formatted according to Metastock 7 format:"
   ]
  },
  {
   "cell_type": "code",
   "execution_count": 5,
   "id": "1cc211cd",
   "metadata": {},
   "outputs": [],
   "source": [
    "events = FileInputStream(\"../test/EventFiles/NASDAQ_SHORT.txt\")"
   ]
  },
  {
   "cell_type": "markdown",
   "id": "05729c42",
   "metadata": {},
   "source": [
    "Applying an existing CEP object on an event stream created above and storing the resulting pattern matches to a file:"
   ]
  },
  {
   "cell_type": "code",
   "execution_count": 6,
   "id": "cef16993",
   "metadata": {},
   "outputs": [
    {
     "data": {
      "text/plain": [
       "0.01473"
      ]
     },
     "execution_count": 6,
     "metadata": {},
     "output_type": "execute_result"
    }
   ],
   "source": [
    "cep.run(events, FileOutputStream('../test/demo/Matches', 'output.txt'), MetastockDataFormatter())"
   ]
  }
 ],
 "metadata": {
  "kernelspec": {
   "display_name": ".venv",
   "language": "python",
   "name": "python3"
  },
  "language_info": {
   "codemirror_mode": {
    "name": "ipython",
    "version": 3
   },
   "file_extension": ".py",
   "mimetype": "text/x-python",
   "name": "python",
   "nbconvert_exporter": "python",
   "pygments_lexer": "ipython3",
   "version": "3.13.5"
  }
 },
 "nbformat": 4,
 "nbformat_minor": 5
}
